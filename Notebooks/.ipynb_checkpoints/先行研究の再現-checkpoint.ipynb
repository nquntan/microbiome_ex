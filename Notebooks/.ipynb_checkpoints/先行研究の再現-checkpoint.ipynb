{
 "cells": [
  {
   "cell_type": "code",
   "execution_count": 1,
   "metadata": {},
   "outputs": [],
   "source": [
    "import numpy as np\n",
    "import pandas as pd\n",
    "import matplotlib.pyplot as plt\n",
    "import seaborn as sns\n",
    "\n",
    "from sklearn.model_selection import StratifiedKFold\n",
    "from sklearn.preprocessing import LabelEncoder\n",
    "from sklearn.ensemble import RandomForestClassifier\n",
    "from sklearn.linear_model import LogisticRegression\n",
    "from sklearn.metrics import (roc_auc_score, auc, accuracy_score)\n",
    "from tools import labelEncode,printAuc\n",
    "\n",
    "import warnings\n",
    "warnings.simplefilter(\"ignore\")\n"
   ]
  },
  {
   "cell_type": "code",
   "execution_count": 2,
   "metadata": {},
   "outputs": [
    {
     "data": {
      "text/plain": [
       "(5902, 491)"
      ]
     },
     "execution_count": 2,
     "metadata": {},
     "output_type": "execute_result"
    }
   ],
   "source": [
    "count = pd.read_csv(\"microbiomeHD_combined.count.genus.level.csv\",index_col = 0)\n",
    "meta = pd.read_csv(\"metadata_combined.csv\")\n",
    "count = count.T\n",
    "#####相対カウントを用いるとき#########################\n",
    "count = count.apply(lambda x:x/sum(x) if sum(x) != 0 else x,axis=1)\n",
    "###############################################\n",
    "d_m = pd.merge(meta, count, left_on='LibraryName', right_index=True).dropna(axis = 0, how = 'all')\n",
    "d_m = d_m.drop(['Age','Sex','BMI'],axis = 1)\n",
    "d_m.shape"
   ]
  },
  {
   "cell_type": "markdown",
   "metadata": {},
   "source": [
    "## データの整形\n",
    "1. UCとCDを区別しないようにしている (ibd_huttenhower,ibd_engstrand_maxee,ibd_gevers_2014）\n",
    "2. ibd_alm,ibd_gevers_2014の健康な人の値をnonIBDからHに変更\n",
    "3. ra_littmanの疾患をRAとPSAの区別をしない"
   ]
  },
  {
   "cell_type": "code",
   "execution_count": 3,
   "metadata": {},
   "outputs": [],
   "source": [
    "selected = d_m['LibraryName'].str.contains('ibd_huttenhower')  \n",
    "d_m.loc[selected, 'DiseaseState'] = d_m.loc[selected, 'DiseaseState'].replace('UC', 'CD')\n",
    "selected = d_m['LibraryName'].str.contains('ibd_engstrand_maxee')  \n",
    "d_m.loc[selected, 'DiseaseState'] = d_m.loc[selected, 'DiseaseState'].replace('UC', 'CD')\n",
    "selected = d_m['LibraryName'].str.contains('ibd_alm')  \n",
    "d_m.loc[selected, 'DiseaseState'] = d_m.loc[selected, 'DiseaseState'].replace('UC', 'CD')\n",
    "selected = d_m['LibraryName'].str.contains('ibd_alm')  \n",
    "d_m.loc[selected, 'DiseaseState'] = d_m.loc[selected, 'DiseaseState'].replace('nonIBD', 'H')\n",
    "selected = d_m['LibraryName'].str.contains('ibd_gevers_2014')  \n",
    "d_m.loc[selected, 'DiseaseState'] = d_m.loc[selected, 'DiseaseState'].replace('nonIBD', 'H')\n",
    "selected = d_m['LibraryName'].str.contains('ra_littman')  \n",
    "d_m.loc[selected, 'DiseaseState'] = d_m.loc[selected, 'DiseaseState'].replace('PSA', 'RA')"
   ]
  },
  {
   "cell_type": "code",
   "execution_count": 4,
   "metadata": {},
   "outputs": [],
   "source": [
    "index = pd.read_csv('index.txt')\n",
    "# index['DiseaseState'] = index[0].apply(lambda x : x.split('_')[0])"
   ]
  },
  {
   "cell_type": "markdown",
   "metadata": {},
   "source": [
    "### 以下のデータセットIDは省略している\n",
    "hiv_lozupone(merge後のデータにそもそも存在しない)\n",
    "### 疾患について\n",
    "index.txt参照\n",
    "先行研究に合わせた\n",
    "\n",
    "### 注意事項\n",
    "1. ~~ob_zupancicについてrelativeにする際に0で割っているためかnanが一列できるため飛ばした()~~(相対カウントのとこ少し変えた)\n",
    "2. ibdalmについては抽出した後のdiseaseStateがひとつ?"
   ]
  },
  {
   "cell_type": "code",
   "execution_count": 5,
   "metadata": {},
   "outputs": [
    {
     "name": "stdout",
     "output_type": "stream",
     "text": [
      "index,interported_auc,auc\n",
      "ob_wu,0.4859354487637315,0.48525000000000007\n",
      "autism_kb,0.7966666666666666,0.79625\n",
      "asd_son,0.4269799000102029,0.42514309764309766\n",
      "cdi_schubert,0.9861261392023856,0.9862061246305729\n",
      "cdi_vincent_v3v5,0.9144079175594326,0.9140000000000001\n",
      "cdi_youngster,0.9929040404040403,0.9928333333333333\n",
      "crc_baxter,0.7744500389687554,0.7744768907563025\n",
      "crc_xiang,0.7006614121008059,0.7002000000000002\n",
      "crc_zackular,0.5812784409754107,0.5794444444444445\n",
      "crc_zeller,0.8243390810461516,0.8240092592592592\n",
      "crc_zhao,0.9082012039587797,0.9062499999999997\n",
      "edd_singh,0.9313756174339953,0.9312036913250149\n",
      "hiv_dinh,0.5238535353535353,0.52\n",
      "hiv_noguerajulian,0.7617939217190054,0.7596807643943823\n",
      "ibd_alm,0.8204448525660647,0.8211758241758242\n",
      "ibd_engstrand_maxee,0.674542246256051,0.6752789987789987\n",
      "ibd_gevers_2014,0.756493781813647,0.7567902298850575\n",
      "ibd_huttenhower,0.755011631466177,0.7550422852001799\n",
      "mhe_zhang,0.8579668401183553,0.8571888888888889\n",
      "nash_chan,0.5454361313957272,0.5447261904761905\n",
      "nash_ob_baker,0.9408333333333333,0.94\n",
      "ob_escobar,0.8554545454545457,0.855\n",
      "ob_goodrich,0.6431168491854298,0.6430535114907585\n",
      "ob_gordon_2008_v2,0.8718364138667167,0.8718376068376068\n",
      "ob_jumpertz,0.9458586878889909,0.9463333333333336\n",
      "ob_ross,0.5123330345300043,0.510875\n",
      "ob_zeevi,0.576648687007653,0.5765723432444573\n",
      "ob_zupancic,0.5446047247926036,0.5442192426035503\n",
      "par_scheperjans,0.6780224126789782,0.6775888888888888\n",
      "ra_littman,0.6522657251861055,0.6509847494553377\n",
      "t1d_alkanani,0.7333302724211814,0.7296556473829202\n",
      "t1d_mejialeon,0.8129746454443424,0.8125\n"
     ]
    }
   ],
   "source": [
    "#学習 不用意に実行しない時間かかる\n",
    "print('index,interported_auc,auc')\n",
    "for i in range(index.shape[0]):\n",
    "    data = d_m.query('DiseaseState == \"H\" or DiseaseState == \"'+index['DiseaseState'][i].upper()+'\"')\n",
    "    data = data.query('LibraryName.str.contains(\"'+index['index'][i]+'\")', engine='python')\n",
    "    data['DiseaseState'] = labelEncode(data,'DiseaseState')\n",
    "    X_train = data.drop([\"LibraryName\",\"DiseaseState\"],axis = 1)\n",
    "    y_train = data[['DiseaseState']].values\n",
    "    printAuc(10,5,index['index'][i],X_train,y_train)\n",
    "    "
   ]
  },
  {
   "cell_type": "markdown",
   "metadata": {},
   "source": [
    "# 結果の出力\n",
    "普通のカウントデータを用いたものは./output/result.txtに出力\n",
    "相対カウントデータを用いたものは./output/relativeresult.txtに出力"
   ]
  },
  {
   "cell_type": "code",
   "execution_count": 6,
   "metadata": {},
   "outputs": [],
   "source": [
    "import matplotlib.pyplot as plt\n",
    "from matplotlib import lines\n",
    "import numpy as np\n",
    "import seaborn as sns\n",
    "%matplotlib inline"
   ]
  },
  {
   "cell_type": "code",
   "execution_count": 7,
   "metadata": {},
   "outputs": [],
   "source": [
    "count = pd.read_csv('./output/result.txt')\n",
    "relative = pd.read_csv('./output/relativeresult.txt')\n",
    "#先行研究のデータ\n",
    "preauc = pd.read_csv('./output/preresult.txt',header = -1,sep = ' ')\n",
    "preauc['index']=(preauc[2] + '_' + preauc[0]).apply(lambda x:x.lower())"
   ]
  },
  {
   "cell_type": "markdown",
   "metadata": {},
   "source": [
    "## 先行研究を再現できたかの確認\n",
    "1. 先行研究のaucをx軸に自分が出したaucをx軸にplotして再現性の確認(y = xのグラフに近ければいい)\n",
    "2. t検定を用いて仮説検定を行う\n",
    "3. カウントデータと相対カウントデータを用いてaucの結果に差があるのかを確認\n",
    "4. t検定を用いて仮説検定を行う\n",
    "5. 上記の作業をauc補間auc別に行う"
   ]
  },
  {
   "cell_type": "code",
   "execution_count": 8,
   "metadata": {},
   "outputs": [],
   "source": [
    "x=[]\n",
    "y1=[]\n",
    "y2=[]\n",
    "y3=[]\n",
    "y4=[]\n",
    "\n",
    "for i in range(preauc.shape[0]):\n",
    "    if not count[count['index'].str.contains(preauc['index'][i])].empty:\n",
    "        x.append(preauc.iloc[i,3]) \n",
    "        y1.append(count[count['index'].str.contains(preauc['index'][i])]['auc'].values[0])\n",
    "        y2.append(count[count['index'].str.contains(preauc['index'][i])]['interported_auc'].values[0])\n",
    "        y3.append(relative[relative['index'].str.contains(preauc['index'][i])]['auc'].values[0])\n",
    "        y4.append(relative[relative['index'].str.contains(preauc['index'][i])]['interported_auc'].values[0])"
   ]
  },
  {
   "cell_type": "code",
   "execution_count": 11,
   "metadata": {},
   "outputs": [
    {
     "data": {
      "image/png": "[encoded data removed]",
      "text/plain": [
       "<Figure size 864x576 with 4 Axes>"
      ]
     },
     "metadata": {
      "needs_background": "light"
     },
     "output_type": "display_data"
    }
   ],
   "source": [
    "fig, axes = plt.subplots(nrows=2, ncols=2, figsize=(12, 8))\n",
    "\n",
    "axes[0][0].scatter(x,y1)\n",
    "axes[0][0].set_title('count & auc')\n",
    "axes[0][1].scatter(x,y2)\n",
    "axes[0][1].set_title('count & interported auc')\n",
    "axes[1][0].scatter(x,y3)\n",
    "axes[1][0].set_title('relative count & auc')\n",
    "axes[1][1].scatter(x,y4)\n",
    "axes[1][1].set_title('relative count &  interported auc')\n",
    "\n",
    "a = np.arange(0, 10, 0.1)\n",
    "y = a\n",
    "for i in range(2):\n",
    "    for j in range(2):\n",
    "        axes[i][j].plot(y,a)\n",
    "        axes[i][j].set_xlim(0,1)\n",
    "        axes[i][j].set_ylim(0,1)"
   ]
  },
  {
   "cell_type": "code",
   "execution_count": 12,
   "metadata": {},
   "outputs": [
    {
     "name": "stdout",
     "output_type": "stream",
     "text": [
      "カウント auc\n",
      "Ttest_relResult(statistic=-0.8822368403717289, pvalue=0.3949779163499636)\n",
      "\n",
      "カウント 補間auc\n",
      "Ttest_relResult(statistic=-0.9073797942928924, pvalue=0.3820662844281377)\n",
      "\n",
      "相対カウント auc\n",
      "Ttest_relResult(statistic=-1.573283994151714, pvalue=0.14163512836753497)\n",
      "\n",
      "相対カウント 補間auc\n",
      "Ttest_relResult(statistic=-1.573283994151714, pvalue=0.14163512836753497)\n",
      "\n"
     ]
    }
   ],
   "source": [
    "from scipy import stats\n",
    "res = stats.ttest_rel(x, y1)\n",
    "print('カウント auc')\n",
    "print(res)\n",
    "print('')\n",
    "res = stats.ttest_rel(x, y2)\n",
    "print('カウント 補間auc')\n",
    "print(res)\n",
    "print('')\n",
    "res = stats.ttest_rel(x, y3)\n",
    "print('相対カウント auc')\n",
    "print(res)\n",
    "print('')\n",
    "print('相対カウント 補間auc')\n",
    "print(res)\n",
    "print('')"
   ]
  },
  {
   "cell_type": "code",
   "execution_count": 13,
   "metadata": {},
   "outputs": [
    {
     "data": {
      "text/plain": [
       "(0, 1)"
      ]
     },
     "execution_count": 13,
     "metadata": {},
     "output_type": "execute_result"
    },
    {
     "data": {
      "image/png": "[encoded data removed]",
      "text/plain": [
       "<Figure size 864x576 with 2 Axes>"
      ]
     },
     "metadata": {
      "needs_background": "light"
     },
     "output_type": "display_data"
    }
   ],
   "source": [
    "fig = plt.figure(figsize=(12,8))\n",
    "a = np.arange(0, 10, 0.1)\n",
    "y = a\n",
    "\n",
    "ax1 = fig.add_subplot(1, 2, 1)\n",
    "ax１.scatter(count['interported_auc'],relative['interported_auc'])\n",
    "ax1.set_title('interported auc')\n",
    "ax1.plot(a,y)\n",
    "ax1.set_xlim(0,1)\n",
    "ax1.set_ylim(0,1)\n",
    "ax２ = fig.add_subplot(1, 2, 2)\n",
    "ax2.set_title('auc')\n",
    "ax２.scatter(count['auc'],relative['auc'])\n",
    "ax2.plot(a,y)\n",
    "ax2.set_xlim(0,1)\n",
    "ax2.set_ylim(0,1)"
   ]
  },
  {
   "cell_type": "code",
   "execution_count": 14,
   "metadata": {},
   "outputs": [
    {
     "name": "stdout",
     "output_type": "stream",
     "text": [
      "補間auc\n",
      "Ttest_relResult(statistic=-0.7857930048990681, pvalue=0.4379540205768796)\n",
      "\n",
      "auc\n",
      "Ttest_relResult(statistic=-0.7967496618468219, pvalue=0.4316564907216497)\n",
      "\n"
     ]
    }
   ],
   "source": [
    "res = stats.ttest_rel(count['interported_auc'],relative['interported_auc'])\n",
    "print('補間auc')\n",
    "print(res)\n",
    "print('')\n",
    "res = stats.ttest_rel(count['auc'],relative['auc'])\n",
    "print('auc')\n",
    "print(res)\n",
    "print('')"
   ]
  }
 ],
 "metadata": {
  "kernelspec": {
   "display_name": "Python 3",
   "language": "python",
   "name": "python3"
  },
  "language_info": {
   "codemirror_mode": {
    "name": "ipython",
    "version": 3
   },
   "file_extension": ".py",
   "mimetype": "text/x-python",
   "name": "python",
   "nbconvert_exporter": "python",
   "pygments_lexer": "ipython3",
   "version": "3.7.1"
  }
 },
 "nbformat": 4,
 "nbformat_minor": 2
}
