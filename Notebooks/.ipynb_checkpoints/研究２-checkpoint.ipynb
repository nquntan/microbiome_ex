{
 "cells": [
  {
   "cell_type": "markdown",
   "metadata": {},
   "source": [
    "# 目次\n",
    "1. 疾患ごとにデータを抽出(２値分類)\n",
    "\n",
    "2. metaデータを含めて多クラス分類やってみる"
   ]
  },
  {
   "cell_type": "markdown",
   "metadata": {},
   "source": [
    "## とりあえず多クラス分類"
   ]
  },
  {
   "cell_type": "code",
   "execution_count": 1,
   "metadata": {},
   "outputs": [
    {
     "name": "stderr",
     "output_type": "stream",
     "text": [
      "/Users/kazuki/.pyenv/versions/anaconda3-5.3.1/lib/python3.7/site-packages/lightgbm/__init__.py:46: UserWarning: Starting from version 2.2.1, the library file in distribution wheels for macOS is built by the Apple Clang (Xcode_8.3.1) compiler.\n",
      "This means that in case of installing LightGBM from PyPI via the ``pip install lightgbm`` command, you don't need to install the gcc compiler anymore.\n",
      "Instead of that, you need to install the OpenMP library, which is required for running LightGBM on the system with the Apple Clang compiler.\n",
      "You can install the OpenMP library by the following command: ``brew install libomp``.\n",
      "  \"You can install the OpenMP library by the following command: ``brew install libomp``.\", UserWarning)\n"
     ]
    }
   ],
   "source": [
    "import numpy as np\n",
    "import pandas as pd\n",
    "import matplotlib.pyplot as plt\n",
    "import seaborn as sns\n",
    "\n",
    "from sklearn.model_selection import StratifiedKFold\n",
    "from sklearn.preprocessing import LabelEncoder\n",
    "from sklearn.ensemble import RandomForestClassifier\n",
    "from sklearn.linear_model import LogisticRegression\n",
    "from sklearn.metrics import (roc_auc_score, auc, accuracy_score)\n",
    "from tools import labelEncode,printAuc,labelOneHotEncode\n",
    "from sklearn.metrics import (roc_auc_score, auc, accuracy_score, roc_curve, confusion_matrix)\n",
    "from sklearn.metrics import f1_score\n",
    "from tqdm import tqdm\n",
    "tqdm.pandas()\n",
    "import warnings\n",
    "warnings.simplefilter(\"ignore\")\n"
   ]
  },
  {
   "cell_type": "code",
   "execution_count": 2,
   "metadata": {},
   "outputs": [],
   "source": [
    "count = pd.read_csv(\"../microbiomeHD_combined.count.genus.level.csv\",index_col = 0)\n",
    "meta = pd.read_csv(\"../metadata_combined.csv\")\n",
    "count = count.T\n",
    "#####相対カウントを用いるとき#########################\n",
    "count = count.apply(lambda x:x/sum(x) if sum(x) != 0 else x,axis=1)\n",
    "###############################################\n",
    "\n",
    "#データの前処理(先行研究のとこ参照)\n",
    "d_m = pd.merge(meta, count, left_on='LibraryName', right_index=True).dropna(axis = 0, how = 'all')\n",
    "selected = d_m['LibraryName'].str.contains('ibd_huttenhower')  \n",
    "d_m.loc[selected, 'DiseaseState'] = d_m.loc[selected, 'DiseaseState'].replace('UC', 'CD')\n",
    "selected = d_m['LibraryName'].str.contains('ibd_engstrand_maxee')  \n",
    "d_m.loc[selected, 'DiseaseState'] = d_m.loc[selected, 'DiseaseState'].replace('UC', 'CD')\n",
    "selected = d_m['LibraryName'].str.contains('ibd_alm')  \n",
    "d_m.loc[selected, 'DiseaseState'] = d_m.loc[selected, 'DiseaseState'].replace('UC', 'CD')\n",
    "selected = d_m['LibraryName'].str.contains('ibd_alm')  \n",
    "d_m.loc[selected, 'DiseaseState'] = d_m.loc[selected, 'DiseaseState'].replace('nonIBD', 'H')\n",
    "selected = d_m['LibraryName'].str.contains('ibd_gevers_2014')  \n",
    "d_m.loc[selected, 'DiseaseState'] = d_m.loc[selected, 'DiseaseState'].replace('nonIBD', 'H')\n",
    "selected = d_m['LibraryName'].str.contains('ra_littman')  \n",
    "d_m.loc[selected, 'DiseaseState'] = d_m.loc[selected, 'DiseaseState'].replace('PSA', 'RA')\n",
    "d_m = d_m.dropna(subset=['DiseaseState'])"
   ]
  },
  {
   "cell_type": "code",
   "execution_count": 3,
   "metadata": {},
   "outputs": [
    {
     "name": "stdout",
     "output_type": "stream",
     "text": [
      "(5747, 494)\n"
     ]
    }
   ],
   "source": [
    "print(d_m.shape)\n",
    "d_m = d_m.groupby('DiseaseState').filter(lambda x:x.shape[0] > 50)"
   ]
  },
  {
   "cell_type": "code",
   "execution_count": 4,
   "metadata": {},
   "outputs": [
    {
     "data": {
      "text/plain": [
       "(100, 494)"
      ]
     },
     "execution_count": 4,
     "metadata": {},
     "output_type": "execute_result"
    }
   ],
   "source": [
    "a = d_m[d_m['DiseaseState'] == 'H'].sample(n = 100)\n",
    "a.shape"
   ]
  },
  {
   "cell_type": "markdown",
   "metadata": {},
   "source": [
    "### データの分割の仕方\n",
    "Age,Sex,BMIについてライブラリーごとに欠損している部分が異なるため\n",
    "1. Age,Sex,BMI　それぞれ\n",
    "2. AgeとSex　AgeとBMI SexとBMI\n",
    "3. 3種類全部\n",
    "\n",
    "について試す\n",
    "\n",
    "メタデータだけで入れた時のやつも試す（腸内細菌叢抜かす）"
   ]
  },
  {
   "cell_type": "code",
   "execution_count": 5,
   "metadata": {},
   "outputs": [
    {
     "name": "stdout",
     "output_type": "stream",
     "text": [
      "all dataset size:5670\n",
      "Age:3811\n",
      "Sex:4169\n",
      "BMI:2696\n",
      "Age and Sex:3809\n",
      "Age and BMI:2680\n",
      "Sex and BMI:2681\n",
      "all metadeta:2679\n"
     ]
    }
   ],
   "source": [
    "dataset = []\n",
    "print('all dataset size:{}'.format(d_m.shape[0]))\n",
    "Age = d_m.drop([\"Sex\",\"BMI\"],axis = 1).dropna()\n",
    "Sex = d_m.drop([\"Age\",\"BMI\"],axis = 1).dropna()\n",
    "BMI = d_m.drop([\"Age\",\"Sex\"],axis = 1).dropna()\n",
    "print('Age:{}'.format(Age.shape[0]))\n",
    "print('Sex:{}'.format(Sex.shape[0]))\n",
    "print('BMI:{}'.format(BMI.shape[0]))\n",
    "      \n",
    "Age_Sex = d_m.drop([\"BMI\"],axis = 1).dropna()\n",
    "Age_BMI = d_m.drop([\"Sex\"],axis = 1).dropna()\n",
    "Sex_BMI = d_m.drop([\"Age\"],axis = 1).dropna()\n",
    "print('Age and Sex:{}'.format(Age_Sex.shape[0]))\n",
    "print('Age and BMI:{}'.format(Age_BMI.shape[0]))\n",
    "print('Sex and BMI:{}'.format(Sex_BMI.shape[0]))\n",
    "\n",
    "Age_Sex_BMI = d_m.dropna()\n",
    "print('all metadeta:{}'.format(Age_Sex_BMI.shape[0]))\n",
    "dataset.append(Age)\n",
    "dataset.append(Sex)\n",
    "dataset.append(BMI)\n",
    "dataset.append(Age_Sex)\n",
    "dataset.append(Age_BMI)\n",
    "dataset.append(Sex_BMI)\n",
    "dataset.append(Age_Sex_BMI)\n"
   ]
  },
  {
   "cell_type": "code",
   "execution_count": null,
   "metadata": {},
   "outputs": [],
   "source": [
    "#メタデータあり\n",
    "var_name = lambda val : [k for k, v in globals().items() if id(v) == id(val)]\n",
    "meta_score = {}\n",
    "for data in dataset:\n",
    "    data['DiseaseState'] = labelEncode(data,'DiseaseState')\n",
    "    if 'Sex' in data.columns:\n",
    "        data['Sex'] = labelOneHotEncode(data,'Sex')\n",
    "    X_train = data.drop(['DiseaseState','LibraryName'],axis = 1)\n",
    "    y_train = data['DiseaseState'].values\n",
    "    score = []\n",
    "    clf = RandomForestClassifier(n_estimators = 1000)\n",
    "    for n in range(10):\n",
    "        cv = StratifiedKFold(n_splits=,5 shuffle=True)\n",
    "        for train_idx, valid_idx in cv.split(X_train, y_train):\n",
    "            trn_x = X_train.iloc[train_idx, :]\n",
    "            val_x = X_train.iloc[valid_idx, :]\n",
    "            trn_y = y_train[train_idx]\n",
    "            val_y = y_train[valid_idx]\n",
    "            trn_y = np.reshape(trn_y, (-1))\n",
    "            val_y = np.reshape(val_y, (-1))\n",
    "            clf.fit(trn_x, trn_y)\n",
    "            probs = clf.predict(val_x)\n",
    "#         probs = clf.predict_proba(val_x)[:, 1]\n",
    "            score.append(f1_score(val_y, probs,average = 'micro'))\n",
    "    meta_score[var_name(data)[0]] = np.mean(score)\n",
    "    print('{},{}'.format(var_name(data)[0],meta_score[var_name(data)[0]]))"
   ]
  },
  {
   "cell_type": "code",
   "execution_count": null,
   "metadata": {},
   "outputs": [],
   "source": [
    "#metaデータなし\n",
    "var_name = lambda val : [k for k, v in globals().items() if id(v) == id(val)]\n",
    "none_meta_score = {}\n",
    "for data in dataset:\n",
    "    data['DiseaseState'] = labelEncode(data,'DiseaseState')\n",
    "    X_train = data.drop(['DiseaseState','LibraryName'],axis = 1)\n",
    "    y_train = data['DiseaseState'].values\n",
    "    dropcol = []\n",
    "    for i in ['Sex','Age','BMI']:\n",
    "        if  i in X_train.columns:\n",
    "            dropcol.append(i)\n",
    "    X_train = X_train.drop(dropcol,axis = 1)\n",
    "    score = []\n",
    "    clf = RandomForestClassifier(n_estimators = 1000)\n",
    "    for n in range(10):\n",
    "        cv = StratifiedKFold(n_splits=5, shuffle=True)\n",
    "        for train_idx, valid_idx in cv.split(X_train, y_train):\n",
    "            trn_x = X_train.iloc[train_idx, :]\n",
    "            val_x = X_train.iloc[valid_idx, :]\n",
    "            trn_y = y_train[train_idx]\n",
    "            val_y = y_train[valid_idx]\n",
    "            trn_y = np.reshape(trn_y, (-1))\n",
    "            val_y = np.reshape(val_y, (-1))\n",
    "            clf.fit(trn_x, trn_y)\n",
    "            probs = clf.predict(val_x)\n",
    "#         probs = clf.predict_proba(val_x)[:, 1]\n",
    "            score.append(f1_score(val_y, probs,average = 'micro'))\n",
    "    none_meta_score[var_name(data)[0]] = np.mean(score)\n",
    "    print('{},{}'.format(var_name(data)[0],none_meta_score[var_name(data)[0]]))"
   ]
  },
  {
   "cell_type": "code",
   "execution_count": null,
   "metadata": {},
   "outputs": [],
   "source": [
    "#metaデータonly\n",
    "var_name = lambda val : [k for k, v in globals().items() if id(v) == id(val)]\n",
    "only_meta_score = {}\n",
    "for data in dataset:\n",
    "    data['DiseaseState'] = labelEncode(data,'DiseaseState')\n",
    "    meta = []\n",
    "    for i in [\"Age\",\"Sex\",\"BMI\"]:\n",
    "        if i in data.columns:\n",
    "            meta.append(i)\n",
    "    X_train = data[meta]\n",
    "    print(meta)\n",
    "    y_train = data['DiseaseState'].values\n",
    "    clf = RandomForestClassifier(n_estimators = 1000)\n",
    "    for n in range(10):\n",
    "        cv = StratifiedKFold(n_splits=5, shuffle=True)\n",
    "        for train_idx, valid_idx in cv.split(X_train, y_train):\n",
    "            trn_x = X_train.iloc[train_idx, :]\n",
    "            val_x = X_train.iloc[valid_idx, :]\n",
    "            trn_y = y_train[train_idx]\n",
    "            val_y = y_train[valid_idx]\n",
    "            trn_y = np.reshape(trn_y, (-1))\n",
    "            val_y = np.reshape(val_y, (-1))\n",
    "            clf.fit(trn_x, trn_y)\n",
    "            probs = clf.predict(val_x)\n",
    "#         probs = clf.predict_proba(val_x)[:, 1]\n",
    "            score.append(f1_score(val_y, probs,average = 'micro'))\n",
    "    only_meta_score[var_name(data)[0]] = np.mean(score)\n",
    "    print('{},{}'.format(var_name(data)[0],only_meta_score[var_name(data)[0]]))"
   ]
  },
  {
   "cell_type": "code",
   "execution_count": 32,
   "metadata": {},
   "outputs": [
    {
     "name": "stdout",
     "output_type": "stream",
     "text": [
      "{'Age': 0.5389298931149857, 'Sex': 0.5238875848654266, 'BMI': 0.7946874279915984, 'Age_Sex': 0.5409387927077031, 'Age_BMI': 0.8067203800069807, 'Sex_BMI': 0.7961876882925776, 'Age_Sex_BMI': 0.8057086146584215}\n",
      "{'Age': 0.5302577785121678, 'Sex': 0.5218784046113506, 'BMI': 0.4778143338044181, 'Age_Sex': 0.5295700187322442, 'Age_BMI': 0.47223416158939635, 'Sex_BMI': 0.4751848544852717, 'Age_Sex_BMI': 0.4784974464333233}\n",
      "{'Age': 0.41749172859886763, 'Sex': 0.4125447548740515, 'BMI': 0.4604747968925232, 'Age_Sex': 0.44659734033511467, 'Age_BMI': 0.47646053939078814, 'Sex_BMI': 0.49730537170436795, 'Age_Sex_BMI': 0.5208475434896604}\n"
     ]
    }
   ],
   "source": [
    "print(meta_score)\n",
    "print(none_meta_score)\n",
    "print(only_meta_score)"
   ]
  },
  {
   "cell_type": "code",
   "execution_count": 80,
   "metadata": {},
   "outputs": [
    {
     "data": {
      "image/png": "[encoded data removed]",
      "text/plain": [
       "<Figure size 1440x1152 with 1 Axes>"
      ]
     },
     "metadata": {
      "needs_background": "light"
     },
     "output_type": "display_data"
    }
   ],
   "source": [
    "x = np.array(list(meta_score.keys()))\n",
    "y1 = np.array(list(meta_score.values()))\n",
    "y2 = np.array(list(none_meta_score.values()))\n",
    "y3 = np.array(list(only_meta_score.values()))\n",
    "x_position = np.arange(len(x))\n",
    "fig = plt.figure(figsize = (20,16))\n",
    "ax = fig.add_subplot(1, 1, 1)\n",
    "ax.bar(x_position, y1, width=0.3, label='meta')\n",
    "ax.bar(x_position + 0.3, y2, width=0.3, label='meta nashi')\n",
    "ax.bar(x_position + 0.6, y3, width=0.3, label='meta dake')\n",
    "ax.legend()\n",
    "ax.set_xticks(x_position + 0.2)\n",
    "ax.set_xticklabels(x)\n",
    "plt.show()"
   ]
  },
  {
   "cell_type": "code",
   "execution_count": 74,
   "metadata": {},
   "outputs": [
    {
     "data": {
      "text/plain": [
       "['Age', 'Sex', 'BMI', 'Age_Sex', 'Age_BMI', 'Sex_BMI', 'Age_Sex_BMI']"
      ]
     },
     "execution_count": 74,
     "metadata": {},
     "output_type": "execute_result"
    }
   ],
   "source": [
    "list(meta_score.keys())"
   ]
  },
  {
   "cell_type": "markdown",
   "metadata": {},
   "source": [
    "### それぞれのデータサイズ\n",
    "Age:3811<br>\n",
    "Sex:4169<br>\n",
    "BMI:2696<br>\n",
    "Age and Sex:3809<br>\n",
    "Age and BMI:2680<br>\n",
    "Sex and BMI:2681<br>\n",
    "None metadata:5670<br>\n",
    "all metadeta:2679"
   ]
  }
 ],
 "metadata": {
  "kernelspec": {
   "display_name": "Python 3",
   "language": "python",
   "name": "python3"
  },
  "language_info": {
   "codemirror_mode": {
    "name": "ipython",
    "version": 3
   },
   "file_extension": ".py",
   "mimetype": "text/x-python",
   "name": "python",
   "nbconvert_exporter": "python",
   "pygments_lexer": "ipython3",
   "version": "3.7.2"
  }
 },
 "nbformat": 4,
 "nbformat_minor": 2
}
