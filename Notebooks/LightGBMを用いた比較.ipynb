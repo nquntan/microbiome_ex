{
 "cells": [
  {
   "cell_type": "code",
   "execution_count": 2,
   "metadata": {},
   "outputs": [
    {
     "name": "stderr",
     "output_type": "stream",
     "text": [
      "/home/kazuki/.pyenv/versions/anaconda3-5.3.1/lib/python3.7/site-packages/sklearn/ensemble/weight_boosting.py:29: DeprecationWarning: numpy.core.umath_tests is an internal NumPy module and should not be imported. It will be removed in a future NumPy release.\n",
      "  from numpy.core.umath_tests import inner1d\n"
     ]
    }
   ],
   "source": [
    "import numpy as np\n",
    "import pandas as pd\n",
    "import matplotlib.pyplot as plt\n",
    "import seaborn as sns\n",
    "\n",
    "from sklearn.model_selection import StratifiedKFold\n",
    "from sklearn.preprocessing import LabelEncoder\n",
    "from sklearn.ensemble import RandomForestClassifier\n",
    "from sklearn.metrics import (roc_auc_score, auc, accuracy_score)\n",
    "from sklearn.metrics import (roc_auc_score, auc, accuracy_score, roc_curve, confusion_matrix)\n",
    "from sklearn.metrics import f1_score\n",
    "from tqdm import tqdm\n",
    "tqdm.pandas()\n",
    "import warnings\n",
    "warnings.simplefilter(\"ignore\")\n",
    "import lightgbm as lgb"
   ]
  },
  {
   "cell_type": "code",
   "execution_count": 3,
   "metadata": {},
   "outputs": [],
   "source": [
    "import sys\n",
    "sys.path.append('../scripts')\n",
    "from load_data import load_data\n",
    "df = load_data()"
   ]
  },
  {
   "cell_type": "code",
   "execution_count": 4,
   "metadata": {},
   "outputs": [],
   "source": [
    "# df['Sex'] = LabelEncoder().fit_transform(df['Sex'].cat.add_categories(\"D\").fillna(\"D\"))\n",
    "df = df.drop(['Sex','Age','BMI'],axis = 1)\n",
    "X_train = df.drop(['LibraryName','DiseaseState'],axis  = 1)\n",
    "y_train = df['DiseaseState'].values\n"
   ]
  },
  {
   "cell_type": "markdown",
   "metadata": {},
   "source": [
    "## メタデータを含めたlightgbmによる比較"
   ]
  },
  {
   "cell_type": "code",
   "execution_count": 13,
   "metadata": {},
   "outputs": [
    {
     "name": "stdout",
     "output_type": "stream",
     "text": [
      "0.4651649267547028\n"
     ]
    }
   ],
   "source": [
    "n_iter = 10\n",
    "folds = 3\n",
    "oof = np.zeros(len(X_train))\n",
    "lgb_score = []\n",
    "rf_score = []\n",
    "\n",
    "for n in range(n_iter):\n",
    "    conf_mat = np.asarray([[0,0],[0,0]])\n",
    "    y_probs = np.empty_like(y_train, dtype=float)\n",
    "    y_trues = np.empty_like(y_train)\n",
    "    y_preds = np.empty_like(y_train)\n",
    "    cv_count = 0\n",
    "    cv_counts = np.empty_like(y_train)\n",
    "    cv = StratifiedKFold(n_splits=folds, shuffle=True)\n",
    "    for train_idx, valid_idx in cv.split(X_train, y_train):\n",
    "        trn_x = X_train.iloc[train_idx, :]\n",
    "        val_x = X_train.iloc[valid_idx, :]\n",
    "        trn_y = y_train[train_idx]\n",
    "        val_y = y_train[valid_idx]\n",
    "        trn_y = np.reshape(trn_y, (-1))\n",
    "        val_y = np.reshape(val_y, (-1))\n",
    "        \n",
    "        #lightgbm\n",
    "        lgb_train = lgb.Dataset(trn_x,trn_y)\n",
    "        lgb_eval = lgb.Dataset(val_x,val_y,reference=lgb_train)\n",
    "        lgbm_params = {\n",
    "            # 多値分類問題\n",
    "            'objective': 'multiclass',\n",
    "            'num_class': 20,\n",
    "            'learning_rate': 0.48148558790197915,\n",
    "            'max_depth': 12,\n",
    "            'num_leaves': 126, \n",
    "            'bagging_fraction': 0.07604494795456074,\n",
    "            'feature_fraction': 0.43596480583156505, \n",
    "            'min_data_in_leaf': 137,\n",
    "            'lambda_l1': 5,\n",
    "            'lambda_l2': 39    \n",
    "        }\n",
    "        model = lgb.train(lgbm_params, lgb_train, 2000, valid_sets=[lgb_train, lgb_eval], early_stopping_rounds=100, verbose_eval=0)\n",
    "        probs = model.predict(val_x)\n",
    "        y_pred_max = np.argmax(probs, axis=1)\n",
    "        score = f1_score(val_y,y_pred_max,average='macro')\n",
    "        lgb_score.append(score)\n",
    "\n",
    "        \n",
    "\n",
    "print(np.mean(lgb_score))"
   ]
  },
  {
   "cell_type": "markdown",
   "metadata": {},
   "source": [
    "## メタデータなしにおけるランダムフォレストとlighgbmの違い"
   ]
  },
  {
   "cell_type": "code",
   "execution_count": 5,
   "metadata": {},
   "outputs": [
    {
     "name": "stdout",
     "output_type": "stream",
     "text": [
      "0.4940371535815298\n",
      "0.3606688702357152\n"
     ]
    }
   ],
   "source": [
    "n_iter = 10\n",
    "folds = 5\n",
    "oof = np.zeros(len(X_train))\n",
    "lgb_score = []\n",
    "rf_score = []\n",
    "\n",
    "for n in range(n_iter):\n",
    "    conf_mat = np.asarray([[0,0],[0,0]])\n",
    "    y_probs = np.empty_like(y_train, dtype=float)\n",
    "    y_trues = np.empty_like(y_train)\n",
    "    y_preds = np.empty_like(y_train)\n",
    "    cv_count = 0\n",
    "    cv_counts = np.empty_like(y_train)\n",
    "    cv = StratifiedKFold(n_splits=folds, shuffle=True)\n",
    "    for train_idx, valid_idx in cv.split(X_train, y_train):\n",
    "        trn_x = X_train.iloc[train_idx, :]\n",
    "        val_x = X_train.iloc[valid_idx, :]\n",
    "        trn_y = y_train[train_idx]\n",
    "        val_y = y_train[valid_idx]\n",
    "        trn_y = np.reshape(trn_y, (-1))\n",
    "        val_y = np.reshape(val_y, (-1))\n",
    "        \n",
    "        #lightgbm\n",
    "        lgb_train = lgb.Dataset(trn_x,trn_y)\n",
    "        lgb_eval = lgb.Dataset(val_x,val_y,reference=lgb_train)\n",
    "        lgbm_params = {\n",
    "            # 多値分類問題\n",
    "            'objective': 'multiclass',\n",
    "            'num_class': 20,\n",
    "            'learning_rate': 0.48148558790197915,\n",
    "            'max_depth': 12,\n",
    "            'num_leaves': 126, \n",
    "            'bagging_fraction': 0.07604494795456074,\n",
    "            'feature_fraction': 0.43596480583156505, \n",
    "            'min_data_in_leaf': 137,\n",
    "            'lambda_l1': 5,\n",
    "            'lambda_l2': 39    \n",
    "        }\n",
    "        model = lgb.train(lgbm_params, lgb_train, 2000, valid_sets=[lgb_train, lgb_eval], early_stopping_rounds=100, verbose_eval=0)\n",
    "        probs = model.predict(val_x)\n",
    "        y_pred_max = np.argmax(probs, axis=1)\n",
    "        score = f1_score(val_y,y_pred_max,average='macro')\n",
    "        lgb_score.append(score)\n",
    "        \n",
    "        #randomforest\n",
    "        clf = RandomForestClassifier(n_estimators = 1000)\n",
    "        clf.fit(trn_x, trn_y)\n",
    "        probs = clf.predict(val_x)\n",
    "        rf_score.append(f1_score(val_y, probs,average='macro'))\n",
    "\n",
    "        \n",
    "\n",
    "print(np.mean(lgb_score))\n",
    "print(np.mean(rf_score))"
   ]
  },
  {
   "cell_type": "code",
   "execution_count": 1,
   "metadata": {},
   "outputs": [
    {
     "ename": "NameError",
     "evalue": "name 'lgb_score' is not defined",
     "output_type": "error",
     "traceback": [
      "\u001b[0;31m---------------------------------------------------------------------------\u001b[0m",
      "\u001b[0;31mNameError\u001b[0m                                 Traceback (most recent call last)",
      "\u001b[0;32m<ipython-input-1-1f810573e514>\u001b[0m in \u001b[0;36m<module>\u001b[0;34m()\u001b[0m\n\u001b[0;32m----> 1\u001b[0;31m \u001b[0mlgb_score\u001b[0m\u001b[0;34m\u001b[0m\u001b[0;34m\u001b[0m\u001b[0m\n\u001b[0m",
      "\u001b[0;31mNameError\u001b[0m: name 'lgb_score' is not defined"
     ]
    }
   ],
   "source": [
    "lgb_score"
   ]
  },
  {
   "cell_type": "code",
   "execution_count": null,
   "metadata": {},
   "outputs": [],
   "source": []
  }
 ],
 "metadata": {
  "kernelspec": {
   "display_name": "Python 3",
   "language": "python",
   "name": "python3"
  },
  "language_info": {
   "codemirror_mode": {
    "name": "ipython",
    "version": 3
   },
   "file_extension": ".py",
   "mimetype": "text/x-python",
   "name": "python",
   "nbconvert_exporter": "python",
   "pygments_lexer": "ipython3",
   "version": "3.7.2"
  }
 },
 "nbformat": 4,
 "nbformat_minor": 2
}
