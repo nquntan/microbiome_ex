{
 "cells": [
  {
   "cell_type": "markdown",
   "metadata": {},
   "source": [
    "# 目次\n",
    "1. Libraryごとにおけるデータの抽出\n",
    "2. metaデータを含めたランダムフォレスとによる予測\n",
    "3. metaデータ統合の際に行数の変化に伴いそれに合わせたmetaデータを抜いたものでの予測\n",
    "4. 先行研究との予測精度の比較\n",
    "5. lightGBM(途中)"
   ]
  },
  {
   "cell_type": "code",
   "execution_count": 14,
   "metadata": {},
   "outputs": [],
   "source": [
    "import numpy as np\n",
    "import pandas as pd\n",
    "import matplotlib.pyplot as plt\n",
    "import seaborn as sns\n",
    "\n",
    "from sklearn.model_selection import StratifiedKFold\n",
    "from sklearn.preprocessing import LabelEncoder\n",
    "from sklearn.ensemble import RandomForestClassifier\n",
    "from sklearn.linear_model import LogisticRegression\n",
    "from sklearn.metrics import (roc_auc_score, auc, accuracy_score)\n",
    "from tools import labelEncode,printAuc,labelOneHotEncode\n",
    "from sklearn.metrics import (roc_auc_score, auc, accuracy_score, roc_curve, confusion_matrix)\n",
    "\n",
    "import warnings\n",
    "warnings.simplefilter(\"ignore\")\n"
   ]
  },
  {
   "cell_type": "code",
   "execution_count": 15,
   "metadata": {},
   "outputs": [],
   "source": [
    "count = pd.read_csv(\"../microbiomeHD_combined.count.genus.level.csv\",index_col = 0)\n",
    "meta = pd.read_csv(\"../metadata_combined.csv\")\n",
    "count = count.T\n",
    "#####相対カウントを用いるとき#########################\n",
    "count = count.apply(lambda x:x/sum(x) if sum(x) != 0 else x,axis=1)\n",
    "###############################################\n",
    "\n",
    "#データの前処理(先行研究のとこ参照)\n",
    "d_m = pd.merge(meta, count, left_on='LibraryName', right_index=True).dropna(axis = 0, how = 'all')\n",
    "selected = d_m['LibraryName'].str.contains('ibd_huttenhower')  \n",
    "d_m.loc[selected, 'DiseaseState'] = d_m.loc[selected, 'DiseaseState'].replace('UC', 'CD')\n",
    "selected = d_m['LibraryName'].str.contains('ibd_engstrand_maxee')  \n",
    "d_m.loc[selected, 'DiseaseState'] = d_m.loc[selected, 'DiseaseState'].replace('UC', 'CD')\n",
    "selected = d_m['LibraryName'].str.contains('ibd_alm')  \n",
    "d_m.loc[selected, 'DiseaseState'] = d_m.loc[selected, 'DiseaseState'].replace('UC', 'CD')\n",
    "selected = d_m['LibraryName'].str.contains('ibd_alm')  \n",
    "d_m.loc[selected, 'DiseaseState'] = d_m.loc[selected, 'DiseaseState'].replace('nonIBD', 'H')\n",
    "selected = d_m['LibraryName'].str.contains('ibd_gevers_2014')  \n",
    "d_m.loc[selected, 'DiseaseState'] = d_m.loc[selected, 'DiseaseState'].replace('nonIBD', 'H')\n",
    "selected = d_m['LibraryName'].str.contains('ra_littman')  \n",
    "d_m.loc[selected, 'DiseaseState'] = d_m.loc[selected, 'DiseaseState'].replace('PSA', 'RA')"
   ]
  },
  {
   "cell_type": "markdown",
   "metadata": {},
   "source": [
    "### まず、使えるデータを確認する\n",
    "それぞれのデータセットにおいて欠損しているところが異なるため"
   ]
  },
  {
   "cell_type": "code",
   "execution_count": 16,
   "metadata": {},
   "outputs": [],
   "source": [
    "#DiseaseStateごとにおけるSex,Age,BMIの欠損の具合を確認\n",
    "# for i in range(index.shape[0]):\n",
    "#     data = d_m.query('DiseaseState == \"H\" or DiseaseState == \"'+index['DiseaseState'][i].upper()+'\"')\n",
    "#     data = data.query('LibraryName.str.contains(\"'+index['index'][i]+'\")', engine='python')\n",
    "#     disease = data[data['DiseaseState'] == index['DiseaseState'][i].upper()]\n",
    "#     print('{},行数:{},疾患行数:{}'.format(index['index'][i],data.shape[0],disease.shape[0]))\n",
    "#     print(data.groupby('DiseaseState').apply(lambda x: x[[\"Age\",\"BMI\",\"Sex\"]].isnull().sum()))\n",
    "#     print()"
   ]
  },
  {
   "cell_type": "code",
   "execution_count": 17,
   "metadata": {},
   "outputs": [],
   "source": [
    "#コード生成用のfor文 \n",
    "# for i in range(index.shape[0]):\n",
    "#     print('{} = d_m.query(\\'DiseaseState == \"H\" or DiseaseState == \"{}\"\\')'.format(index['index'][i],index['DiseaseState'][i].upper()))\n",
    "#     print('{} = {}.query(\\'LibraryName.str.contains(\"{}\")\\',engine=\\'python\\')'.format(index['index'][i],index['index'][i],index['index'][i]))\n",
    "#     print('{} = {}.dropna(axis = 1)'.format(index['index'][i],index['index'][i]))\n",
    "#     print('{} = {}.dropna()'.format(index['index'][i],index['index'][i]))\n",
    "#     print('dataset.append({})'.format(index['index'][i]))"
   ]
  },
  {
   "cell_type": "code",
   "execution_count": 18,
   "metadata": {},
   "outputs": [],
   "source": [
    "dataset = []\n",
    "ob_wu = d_m.query('DiseaseState == \"H\" or DiseaseState == \"OW\"')\n",
    "ob_wu = ob_wu.query('LibraryName.str.contains(\"ob_wu\")',engine='python')\n",
    "dataset.append(ob_wu)\n",
    "                   \n",
    "autism_kb = d_m.query('DiseaseState == \"H\" or DiseaseState == \"ASD\"')\n",
    "autism_kb = autism_kb.query('LibraryName.str.contains(\"autism_kb\")',engine='python')\n",
    "autism_kb = autism_kb.drop(['Age','Sex','BMI'],axis = 1)\n",
    "dataset.append(autism_kb)\n",
    "                       \n",
    "asd_son = d_m.query('DiseaseState == \"H\" or DiseaseState == \"ASD\"')\n",
    "asd_son = asd_son.query('LibraryName.str.contains(\"asd_son\")',engine='python')\n",
    "asd_son = asd_son.drop(['BMI','Age'],axis = 1) #BMIと年齢がほとんど欠損\n",
    "dataset.append(asd_son)\n",
    "                     \n",
    "cdi_schubert = d_m.query('DiseaseState == \"H\" or DiseaseState == \"CDI\"')\n",
    "cdi_schubert = cdi_schubert.query('LibraryName.str.contains(\"cdi_schubert\")',engine='python')\n",
    "cdi_schubert = cdi_schubert.drop(['BMI'],axis = 1)\n",
    "cdi_schubert = cdi_schubert.dropna()\n",
    "dataset.append(cdi_schubert)\n",
    "                          \n",
    "cdi_vincent_v3v5 = d_m.query('DiseaseState == \"H\" or DiseaseState == \"CDI\"')\n",
    "cdi_vincent_v3v5 = cdi_vincent_v3v5.query('LibraryName.str.contains(\"cdi_vincent_v3v5\")',engine='python')\n",
    "cdi_vincent_v3v5 = cdi_vincent_v3v5.drop(['Age','Sex','BMI'],axis = 1)\n",
    "dataset.append(cdi_vincent_v3v5)\n",
    "\n",
    "cdi_youngster = d_m.query('DiseaseState == \"H\" or DiseaseState == \"CDI\"')\n",
    "cdi_youngster = cdi_youngster.query('LibraryName.str.contains(\"cdi_youngster\")',engine='python')\n",
    "cdi_youngster = cdi_youngster.drop(['Age','Sex','BMI'],axis = 1)\n",
    "dataset.append(cdi_youngster)\n",
    "\n",
    "crc_baxter = d_m.query('DiseaseState == \"H\" or DiseaseState == \"CRC\"')\n",
    "crc_baxter = crc_baxter.query('LibraryName.str.contains(\"crc_baxter\")',engine='python')\n",
    "crc_baxter = crc_baxter.dropna()\n",
    "dataset.append(crc_baxter)\n",
    "\n",
    "crc_xiang = d_m.query('DiseaseState == \"H\" or DiseaseState == \"CRC\"')\n",
    "crc_xiang = crc_xiang.query('LibraryName.str.contains(\"crc_xiang\")',engine='python')\n",
    "crc_xiang = crc_xiang.drop(['Age','Sex','BMI'],axis = 1)\n",
    "dataset.append(crc_xiang)\n",
    "\n",
    "crc_zackular = d_m.query('DiseaseState == \"H\" or DiseaseState == \"CRC\"')\n",
    "crc_zackular = crc_zackular.query('LibraryName.str.contains(\"crc_zackular\")',engine='python')\n",
    "crc_zackular = crc_zackular.dropna()\n",
    "dataset.append(crc_zackular)\n",
    "\n",
    "crc_zeller = d_m.query('DiseaseState == \"H\" or DiseaseState == \"CRC\"')\n",
    "crc_zeller = crc_zeller.query('LibraryName.str.contains(\"crc_zeller\")',engine='python')\n",
    "crc_zeller = crc_zeller.dropna()\n",
    "dataset.append(crc_zeller)\n",
    "\n",
    "crc_zhao = d_m.query('DiseaseState == \"H\" or DiseaseState == \"CRC\"')\n",
    "crc_zhao = crc_zhao.query('LibraryName.str.contains(\"crc_zhao\")',engine='python')\n",
    "crc_zhao = crc_zhao.drop(['Age','Sex','BMI'],axis = 1)\n",
    "dataset.append(crc_zhao)\n",
    "\n",
    "edd_singh = d_m.query('DiseaseState == \"H\" or DiseaseState == \"EDD\"')\n",
    "edd_singh = edd_singh.query('LibraryName.str.contains(\"edd_singh\")',engine='python')\n",
    "edd_singh = edd_singh.drop(['Age','Sex','BMI'],axis = 1)\n",
    "dataset.append(edd_singh)\n",
    "\n",
    "hiv_dinh = d_m.query('DiseaseState == \"H\" or DiseaseState == \"HIV\"')\n",
    "hiv_dinh = hiv_dinh.query('LibraryName.str.contains(\"hiv_dinh\")',engine='python')\n",
    "dataset.append(hiv_dinh)\n",
    "\n",
    "hiv_noguerajulian = d_m.query('DiseaseState == \"H\" or DiseaseState == \"HIV\"')\n",
    "hiv_noguerajulian = hiv_noguerajulian.query('LibraryName.str.contains(\"hiv_noguerajulian\")',engine='python')\n",
    "hiv_noguerajulian = hiv_noguerajulian.drop(['BMI'],axis = 1)\n",
    "dataset.append(hiv_noguerajulian)\n",
    "\n",
    "ibd_alm = d_m.query('DiseaseState == \"H\" or DiseaseState == \"CD\"')\n",
    "ibd_alm = ibd_alm.query('LibraryName.str.contains(\"ibd_alm\")',engine='python')\n",
    "ibd_alm = ibd_alm.drop(['BMI'],axis = 1)\n",
    "dataset.append(ibd_alm)\n",
    "\n",
    "ibd_engstrand_maxee = d_m.query('DiseaseState == \"H\" or DiseaseState == \"CD\"')\n",
    "ibd_engstrand_maxee = ibd_engstrand_maxee.query('LibraryName.str.contains(\"ibd_engstrand_maxee\")',engine='python')\n",
    "ibd_engstrand_maxee = ibd_engstrand_maxee.drop(['BMI'],axis = 1)\n",
    "dataset.append(ibd_engstrand_maxee)\n",
    "\n",
    "ibd_gevers_2014 = d_m.query('DiseaseState == \"H\" or DiseaseState == \"CD\"')\n",
    "ibd_gevers_2014 = ibd_gevers_2014.query('LibraryName.str.contains(\"ibd_gevers_2014\")',engine='python')\n",
    "ibd_gevers_2014 = ibd_gevers_2014.drop(['Age','Sex','BMI'],axis = 1)\n",
    "dataset.append(ibd_gevers_2014)\n",
    "\n",
    "ibd_huttenhower = d_m.query('DiseaseState == \"H\" or DiseaseState == \"CD\"')\n",
    "ibd_huttenhower = ibd_huttenhower.query('LibraryName.str.contains(\"ibd_huttenhower\")',engine='python')\n",
    "ibd_huttenhower = ibd_huttenhower.drop(['BMI'],axis = 1)\n",
    "dataset.append(ibd_huttenhower)\n",
    "\n",
    "mhe_zhang = d_m.query('DiseaseState == \"H\" or DiseaseState == \"MHE\"')\n",
    "mhe_zhang = mhe_zhang.query('LibraryName.str.contains(\"mhe_zhang\")',engine='python')\n",
    "mhe_zhang = mhe_zhang.drop(['Age','Sex','BMI'],axis = 1)\n",
    "dataset.append(mhe_zhang)\n",
    "\n",
    "nash_chan = d_m.query('DiseaseState == \"H\" or DiseaseState == \"NASH\"')\n",
    "nash_chan = nash_chan.query('LibraryName.str.contains(\"nash_chan\")',engine='python')\n",
    "nash_chan = nash_chan.drop(['Age','Sex','BMI'],axis = 1)\n",
    "dataset.append(nash_chan)\n",
    "\n",
    "nash_ob_baker = d_m.query('DiseaseState == \"H\" or DiseaseState == \"NASH\"')\n",
    "nash_ob_baker = nash_ob_baker.query('LibraryName.str.contains(\"nash_ob_baker\")',engine='python')\n",
    "nash_ob_baker = nash_ob_baker.drop(['BMI'],axis = 1)\n",
    "dataset.append(nash_ob_baker)\n",
    "\n",
    "ob_escobar = d_m.query('DiseaseState == \"H\" or DiseaseState == \"OB\"')\n",
    "ob_escobar = ob_escobar.query('LibraryName.str.contains(\"ob_escobar\")',engine='python')\n",
    "dataset.append(ob_escobar)\n",
    "\n",
    "ob_goodrich = d_m.query('DiseaseState == \"H\" or DiseaseState == \"OB\"')\n",
    "ob_goodrich = ob_goodrich.query('LibraryName.str.contains(\"ob_goodrich\")',engine='python')\n",
    "dataset.append(ob_goodrich)\n",
    "\n",
    "ob_gordon_2008_v2 = d_m.query('DiseaseState == \"H\" or DiseaseState == \"OB\"')\n",
    "ob_gordon_2008_v2 = ob_gordon_2008_v2.query('LibraryName.str.contains(\"ob_gordon_2008_v2\")',engine='python')\n",
    "ob_gordon_2008_v2 = ob_gordon_2008_v2.drop(['Age','Sex','BMI'],axis = 1)\n",
    "dataset.append(ob_gordon_2008_v2)\n",
    "\n",
    "ob_jumpertz = d_m.query('DiseaseState == \"H\" or DiseaseState == \"OB\"')\n",
    "ob_jumpertz = ob_jumpertz.query('LibraryName.str.contains(\"ob_jumpertz\")',engine='python')\n",
    "ob_jumpertz = ob_jumpertz.drop(['Age','Sex','BMI'],axis = 1)\n",
    "dataset.append(ob_jumpertz)\n",
    "\n",
    "ob_ross = d_m.query('DiseaseState == \"H\" or DiseaseState == \"OB\"')\n",
    "ob_ross = ob_ross.query('LibraryName.str.contains(\"ob_ross\")',engine='python')\n",
    "dataset.append(ob_ross)\n",
    "\n",
    "ob_zeevi = d_m.query('DiseaseState == \"H\" or DiseaseState == \"OB\"')\n",
    "ob_zeevi = ob_zeevi.query('LibraryName.str.contains(\"ob_zeevi\")',engine='python')\n",
    "ob_zeevi = ob_zeevi.dropna()\n",
    "dataset.append(ob_zeevi)\n",
    "\n",
    "ob_zupancic = d_m.query('DiseaseState == \"H\" or DiseaseState == \"OB\"')\n",
    "ob_zupancic = ob_zupancic.query('LibraryName.str.contains(\"ob_zupancic\")',engine='python')\n",
    "ob_zupancic = ob_zupancic.drop(['Age','BMI'],axis = 1)\n",
    "dataset.append(ob_zupancic)\n",
    "\n",
    "par_scheperjans = d_m.query('DiseaseState == \"H\" or DiseaseState == \"PAR\"')\n",
    "par_scheperjans = par_scheperjans.query('LibraryName.str.contains(\"par_scheperjans\")',engine='python')\n",
    "par_scheperjans = par_scheperjans.drop(['Age','Sex','BMI'],axis = 1)\n",
    "dataset.append(par_scheperjans)\n",
    "\n",
    "ra_littman = d_m.query('DiseaseState == \"H\" or DiseaseState == \"RA\"')\n",
    "ra_littman = ra_littman.query('LibraryName.str.contains(\"ra_littman\")',engine='python')\n",
    "ra_littman = ra_littman.drop(['Age','Sex','BMI'],axis = 1)\n",
    "dataset.append(ra_littman)\n",
    "\n",
    "t1d_alkanani = d_m.query('DiseaseState == \"H\" or DiseaseState == \"T1D\"')\n",
    "t1d_alkanani = t1d_alkanani.query('LibraryName.str.contains(\"t1d_alkanani\")',engine='python')\n",
    "t1d_alkanani = t1d_alkanani.drop(['BMI'],axis = 1)\n",
    "t1d_alkanani = t1d_alkanani.dropna()\n",
    "dataset.append(t1d_alkanani)\n",
    "\n",
    "t1d_mejialeon = d_m.query('DiseaseState == \"H\" or DiseaseState == \"T1D\"')\n",
    "t1d_mejialeon = t1d_mejialeon.query('LibraryName.str.contains(\"t1d_mejialeon\")',engine='python')\n",
    "dataset.append(t1d_mejialeon)"
   ]
  },
  {
   "cell_type": "code",
   "execution_count": null,
   "metadata": {},
   "outputs": [],
   "source": [
    "print('index,interported_auc,auc')\n",
    "for data in dataset:\n",
    "    if 'Sex' in data.columns:\n",
    "        data['Sex'] = labelOneHotEncode(data,'Sex')\n",
    "    data['DiseaseState'] = labelEncode(data,'DiseaseState')\n",
    "    X_train = data.drop([\"LibraryName\",\"DiseaseState\"],axis = 1)\n",
    "    y_train = data[['DiseaseState']].values\n",
    "    printAuc(10,5,data.iloc[3,0].split('.')[0],X_train,y_train)"
   ]
  },
  {
   "cell_type": "markdown",
   "metadata": {},
   "source": [
    "### 上のプログラムでは先行研究とデータセットのサイズに差があるため揃える\n",
    "com1.txtにカウントデータ\n",
    "com2.txtに相対データ"
   ]
  },
  {
   "cell_type": "code",
   "execution_count": null,
   "metadata": {},
   "outputs": [],
   "source": [
    "print('index,interported_auc,auc')\n",
    "for data in dataset:\n",
    "    data['DiseaseState'] = labelEncode(data,'DiseaseState')\n",
    "    X_train = data.drop([\"LibraryName\",\"DiseaseState\"],axis = 1)\n",
    "    dropcol = []\n",
    "    for i in ['Sex','Age','BMI']:\n",
    "        if  i in X_train.columns:\n",
    "            dropcol.append(i)\n",
    "    X_train = X_train.drop(dropcol,axis = 1)\n",
    "    y_train = data[['DiseaseState']].values\n",
    "    printAuc(10,5,data.iloc[3,0].split('.')[0],X_train,y_train)"
   ]
  },
  {
   "cell_type": "markdown",
   "metadata": {},
   "source": [
    "## 結果について\n",
    "1. カウントデータを用いたものは ./output/metaresult.txt\n",
    "2. 相対データを用いたものは　./output/relativemetaresult.txt\n",
    "<br>に記載"
   ]
  },
  {
   "cell_type": "code",
   "execution_count": 22,
   "metadata": {},
   "outputs": [],
   "source": [
    "import matplotlib.pyplot as plt\n",
    "from matplotlib import lines\n",
    "import numpy as np\n",
    "import seaborn as sns\n",
    "%matplotlib inline\n",
    "from scipy import stats"
   ]
  },
  {
   "cell_type": "code",
   "execution_count": 21,
   "metadata": {},
   "outputs": [],
   "source": [
    "metacount = pd.read_csv('./output/metaresult.txt')\n",
    "metarelative = pd.read_csv('./output/metarelativeresult.txt')\n",
    "\n",
    "count = pd.read_csv('./output/result.txt')\n",
    "relative = pd.read_csv('./output/relativeresult.txt')"
   ]
  },
  {
   "cell_type": "markdown",
   "metadata": {},
   "source": [
    "## ???\n",
    "先行研究の再現の際にcountデータと相対カウントデータでは結果に差が見られなかったため、今回はcountデータのみを用いる。"
   ]
  },
  {
   "cell_type": "code",
   "execution_count": 23,
   "metadata": {},
   "outputs": [
    {
     "data": {
      "text/plain": [
       "(0, 1)"
      ]
     },
     "execution_count": 23,
     "metadata": {},
     "output_type": "execute_result"
    },
    {
     "data": {
      "image/png": "[encoded data removed]",
      "text/plain": [
       "<Figure size 864x576 with 2 Axes>"
      ]
     },
     "metadata": {
      "needs_background": "light"
     },
     "output_type": "display_data"
    }
   ],
   "source": [
    "fig = plt.figure(figsize=(12,8))\n",
    "a = np.arange(0, 10, 0.1)\n",
    "y = a\n",
    "\n",
    "ax1 = fig.add_subplot(1, 2, 1)\n",
    "ax１.scatter(count['interported_auc'],metacount['interported_auc'])\n",
    "ax1.set_title('interported auc')\n",
    "ax1.plot(a,y)\n",
    "ax1.set_xlim(0,1)\n",
    "ax1.set_ylim(0,1)\n",
    "ax２ = fig.add_subplot(1, 2, 2)\n",
    "ax2.set_title('auc')\n",
    "ax２.scatter(count['auc'],metacount['auc'])\n",
    "ax2.plot(a,y)\n",
    "ax2.set_xlim(0,1)\n",
    "ax2.set_ylim(0,1)"
   ]
  },
  {
   "cell_type": "code",
   "execution_count": 24,
   "metadata": {},
   "outputs": [
    {
     "name": "stdout",
     "output_type": "stream",
     "text": [
      "補間auc\n",
      "Ttest_relResult(statistic=-2.57345587467449, pvalue=0.01507437142958184)\n",
      "\n",
      "auc\n",
      "Ttest_relResult(statistic=-2.5775756670258776, pvalue=0.014927833988458905)\n",
      "\n"
     ]
    }
   ],
   "source": [
    "res = stats.ttest_rel(count['interported_auc'],metacount['interported_auc'])\n",
    "print('補間auc')\n",
    "print(res)\n",
    "print('')\n",
    "res = stats.ttest_rel(count['auc'],metacount['auc'])\n",
    "print('auc')\n",
    "print(res)\n",
    "print('')"
   ]
  },
  {
   "cell_type": "markdown",
   "metadata": {},
   "source": [
    "## 考察\n",
    "y軸にｐｌｏｔしたmetaデータ(年齢、性別、BMI)を含めた結果の方が高くはなった。有意水準5％で帰無仮説を棄却"
   ]
  },
  {
   "cell_type": "markdown",
   "metadata": {},
   "source": [
    "### 上のプログラムでは先行研究とデータセットのサイズに差があるため揃える\n",
    "結果のＰＬＯＴ"
   ]
  },
  {
   "cell_type": "code",
   "execution_count": 25,
   "metadata": {},
   "outputs": [
    {
     "name": "stdout",
     "output_type": "stream",
     "text": [
      "補間auc\n",
      "Ttest_relResult(statistic=-2.640355968234475, pvalue=0.012851692053725028)\n",
      "\n",
      "auc\n",
      "Ttest_relResult(statistic=-2.6408075474979213, pvalue=0.01283777905097603)\n",
      "\n"
     ]
    },
    {
     "data": {
      "image/png": "[encoded data removed]",
      "text/plain": [
       "<Figure size 864x576 with 2 Axes>"
      ]
     },
     "metadata": {
      "needs_background": "light"
     },
     "output_type": "display_data"
    }
   ],
   "source": [
    "com1 = pd.read_csv('./output/com1.txt')\n",
    "fig = plt.figure(figsize=(12,8))\n",
    "a = np.arange(0, 10, 0.1)\n",
    "y = a\n",
    "\n",
    "ax1 = fig.add_subplot(1, 2, 1)\n",
    "ax１.scatter(com1['interported_auc'],metacount['interported_auc'])\n",
    "ax1.set_title('interported auc')\n",
    "ax1.plot(a,y)\n",
    "ax1.set_xlim(0,1)\n",
    "ax1.set_ylim(0,1)\n",
    "ax２ = fig.add_subplot(1, 2, 2)\n",
    "ax2.set_title('auc')\n",
    "ax２.scatter(com1['auc'],metacount['auc'])\n",
    "ax2.plot(a,y)\n",
    "ax2.set_xlim(0,1)\n",
    "ax2.set_ylim(0,1)\n",
    "#t検定\n",
    "res = stats.ttest_rel(com1['interported_auc'],metacount['interported_auc'])\n",
    "print('補間auc')\n",
    "print(res)\n",
    "print('')\n",
    "res = stats.ttest_rel(com1['auc'],metacount['auc'])\n",
    "print('auc')\n",
    "print(res)\n",
    "print('')"
   ]
  },
  {
   "cell_type": "markdown",
   "metadata": {},
   "source": [
    "## Light GBM\n",
    "optuna or GridSearchCVによるハイパラメータ調整"
   ]
  },
  {
   "cell_type": "markdown",
   "metadata": {},
   "source": [
    "## 特徴量エンジニアリング\n",
    "1. 細菌の組み合わせ?あとでかしかして確認\n",
    "2. lightgbm以外でモデル予測(xgboost,catboost,　　　　t-sNE)\n",
    "3. 上記のモデルを用いてアンサンブル"
   ]
  },
  {
   "cell_type": "code",
   "execution_count": null,
   "metadata": {},
   "outputs": [],
   "source": []
  }
 ],
 "metadata": {
  "kernelspec": {
   "display_name": "Python 3",
   "language": "python",
   "name": "python3"
  },
  "language_info": {
   "codemirror_mode": {
    "name": "ipython",
    "version": 3
   },
   "file_extension": ".py",
   "mimetype": "text/x-python",
   "name": "python",
   "nbconvert_exporter": "python",
   "pygments_lexer": "ipython3",
   "version": "3.7.2"
  }
 },
 "nbformat": 4,
 "nbformat_minor": 2
}
